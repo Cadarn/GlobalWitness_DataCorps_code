{
 "cells": [
  {
   "cell_type": "markdown",
   "metadata": {},
   "source": [
    "# Initialising out new Neo4j database\n",
    "Getting started can we connect to our database and see some nodes etc? This notebook uses the native \"bolt\" driver produced by neo4j themselves to access and run commands."
   ]
  },
  {
   "cell_type": "code",
   "execution_count": 1,
   "metadata": {
    "collapsed": true
   },
   "outputs": [],
   "source": [
    "# We need the connection driver imported\n",
    "from neo4j.v1 import GraphDatabase"
   ]
  },
  {
   "cell_type": "code",
   "execution_count": 2,
   "metadata": {
    "collapsed": true
   },
   "outputs": [],
   "source": [
    "user = \"myusername\"\n",
    "password = \"mypassword\"\n",
    "connection_path = \"bolt://10.0.0.1:7687\" # Make sure to set the correct address and port\n",
    "driver = GraphDatabase.driver(connection_path, auth=(user, password))"
   ]
  },
  {
   "cell_type": "markdown",
   "metadata": {},
   "source": [
    "Now we can open a session connection to the database"
   ]
  },
  {
   "cell_type": "code",
   "execution_count": 3,
   "metadata": {
    "collapsed": true
   },
   "outputs": [],
   "source": [
    "session = driver.session()"
   ]
  },
  {
   "cell_type": "markdown",
   "metadata": {},
   "source": [
    "Now we can use the session to run a CYPHER query. We will count all the nodes and return it to a result object that we will then print."
   ]
  },
  {
   "cell_type": "code",
   "execution_count": 4,
   "metadata": {},
   "outputs": [
    {
     "name": "stdout",
     "output_type": "stream",
     "text": [
      "[{'COUNT(n)': 0}]\n"
     ]
    }
   ],
   "source": [
    "result = session.run(\"MATCH (n) RETURN COUNT(n);\")\n",
    "print(result.data())"
   ]
  },
  {
   "cell_type": "raw",
   "metadata": {},
   "source": [
    "Great, there is nothing there since it's a new database but we need to remember to close the session"
   ]
  },
  {
   "cell_type": "code",
   "execution_count": 5,
   "metadata": {
    "collapsed": true
   },
   "outputs": [],
   "source": [
    "session.close()"
   ]
  },
  {
   "cell_type": "code",
   "execution_count": 10,
   "metadata": {
    "collapsed": true
   },
   "outputs": [],
   "source": [
    "# This is an example query that deletes all nodes in the database \n",
    "# DO NOT UNCOMMENT unless you know what you are doing!\n",
    "# session.run(\"MATCH (n) DETACH DELETE n;\")"
   ]
  },
  {
   "cell_type": "markdown",
   "metadata": {},
   "source": [
    "# Setting up some constraints\n",
    "\n",
    "We know the design of the database that we intend to have, e.g. the node types and what will define if they are unique. Hence we can set up some contraints that will also inform the indexing of the database. We know we will have the following:\n",
    "\n",
    "- *Company* nodes with unique **uid**\n",
    "- *Country* nodes with unique **codes**\n",
    "- *Person* nodes with unique **uid**\n",
    "- *ControllingEntity* with unique **type**\n",
    "- *Postcode* with unique **uid**\n",
    "- *Statement* with unique **type**\n",
    "- *OtherEntity* with unique **uid**"
   ]
  },
  {
   "cell_type": "code",
   "execution_count": 13,
   "metadata": {
    "collapsed": true
   },
   "outputs": [],
   "source": [
    "session = driver.session()"
   ]
  },
  {
   "cell_type": "code",
   "execution_count": 6,
   "metadata": {},
   "outputs": [
    {
     "ename": "SessionError",
     "evalue": "",
     "output_type": "error",
     "traceback": [
      "\u001b[0;31m\u001b[0m",
      "\u001b[0;31mSessionError\u001b[0mTraceback (most recent call last)",
      "\u001b[0;32m<ipython-input-6-c16f4a0505fc>\u001b[0m in \u001b[0;36m<module>\u001b[0;34m()\u001b[0m\n\u001b[0;32m----> 1\u001b[0;31m \u001b[0msession\u001b[0m\u001b[0;34m.\u001b[0m\u001b[0mrun\u001b[0m\u001b[0;34m(\u001b[0m\u001b[0;34m\"CREATE CONSTRAINT ON (n:Company) ASSERT n.uid IS UNIQUE;\"\u001b[0m\u001b[0;34m)\u001b[0m\u001b[0;34m\u001b[0m\u001b[0m\n\u001b[0m\u001b[1;32m      2\u001b[0m \u001b[0msession\u001b[0m\u001b[0;34m.\u001b[0m\u001b[0mrun\u001b[0m\u001b[0;34m(\u001b[0m\u001b[0;34m\"CREATE CONSTRAINT ON (n:Person) ASSERT n.uid IS UNIQUE;\"\u001b[0m\u001b[0;34m)\u001b[0m\u001b[0;34m\u001b[0m\u001b[0m\n\u001b[1;32m      3\u001b[0m \u001b[0msession\u001b[0m\u001b[0;34m.\u001b[0m\u001b[0mrun\u001b[0m\u001b[0;34m(\u001b[0m\u001b[0;34m\"CREATE CONSTRAINT ON (n:Postcode) ASSERT n.uid IS UNIQUE;\"\u001b[0m\u001b[0;34m)\u001b[0m\u001b[0;34m\u001b[0m\u001b[0m\n\u001b[1;32m      4\u001b[0m \u001b[0msession\u001b[0m\u001b[0;34m.\u001b[0m\u001b[0mrun\u001b[0m\u001b[0;34m(\u001b[0m\u001b[0;34m\"CREATE CONSTRAINT ON (n:OtherEntity) ASSERT n.uid IS UNIQUE;\"\u001b[0m\u001b[0;34m)\u001b[0m\u001b[0;34m\u001b[0m\u001b[0m\n\u001b[1;32m      5\u001b[0m \u001b[0msession\u001b[0m\u001b[0;34m.\u001b[0m\u001b[0mrun\u001b[0m\u001b[0;34m(\u001b[0m\u001b[0;34m\"CREATE CONSTRAINT ON (n:Country) ASSERT n.code IS UNIQUE;\"\u001b[0m\u001b[0;34m)\u001b[0m\u001b[0;34m\u001b[0m\u001b[0m\n",
      "\u001b[0;32m/home/ec2-user/anaconda3/lib/python3.6/site-packages/neo4j/v1/api.py\u001b[0m in \u001b[0;36mrun\u001b[0;34m(self, statement, parameters, **kwparameters)\u001b[0m\n\u001b[1;32m    327\u001b[0m         \"\"\"\n\u001b[1;32m    328\u001b[0m         \u001b[0;32mif\u001b[0m \u001b[0mself\u001b[0m\u001b[0;34m.\u001b[0m\u001b[0mclosed\u001b[0m\u001b[0;34m(\u001b[0m\u001b[0;34m)\u001b[0m\u001b[0;34m:\u001b[0m\u001b[0;34m\u001b[0m\u001b[0m\n\u001b[0;32m--> 329\u001b[0;31m             \u001b[0;32mraise\u001b[0m \u001b[0mSessionError\u001b[0m\u001b[0;34m(\u001b[0m\u001b[0;34m\"Session closed\"\u001b[0m\u001b[0;34m)\u001b[0m\u001b[0;34m\u001b[0m\u001b[0m\n\u001b[0m\u001b[1;32m    330\u001b[0m         \u001b[0;32mif\u001b[0m \u001b[0;32mnot\u001b[0m \u001b[0mstatement\u001b[0m\u001b[0;34m:\u001b[0m\u001b[0;34m\u001b[0m\u001b[0m\n\u001b[1;32m    331\u001b[0m             \u001b[0;32mraise\u001b[0m \u001b[0mValueError\u001b[0m\u001b[0;34m(\u001b[0m\u001b[0;34m\"Cannot run an empty statement\"\u001b[0m\u001b[0;34m)\u001b[0m\u001b[0;34m\u001b[0m\u001b[0m\n",
      "\u001b[0;31mSessionError\u001b[0m: "
     ]
    }
   ],
   "source": [
    "session.run(\"CREATE CONSTRAINT ON (n:Company) ASSERT n.uid IS UNIQUE;\")\n",
    "session.run(\"CREATE CONSTRAINT ON (n:Person) ASSERT n.uid IS UNIQUE;\")\n",
    "session.run(\"CREATE CONSTRAINT ON (n:Postcode) ASSERT n.uid IS UNIQUE;\")\n",
    "session.run(\"CREATE CONSTRAINT ON (n:Other_entity) ASSERT n.uid IS UNIQUE;\")\n",
    "session.run(\"CREATE CONSTRAINT ON (n:Country) ASSERT n.code IS UNIQUE;\")\n",
    "session.run(\"CREATE CONSTRAINT ON (n:ControllingEntity) ASSERT n.type IS UNIQUE;\")\n",
    "session.run(\"CREATE CONSTRAINT ON (n:Statement) ASSERT n.type IS UNIQUE;\")"
   ]
  },
  {
   "cell_type": "code",
   "execution_count": 7,
   "metadata": {
    "collapsed": true
   },
   "outputs": [],
   "source": [
    "session.close()"
   ]
  }
 ],
 "metadata": {
  "kernelspec": {
   "display_name": "Python 3",
   "language": "python",
   "name": "python3"
  },
  "language_info": {
   "codemirror_mode": {
    "name": "ipython",
    "version": 3
   },
   "file_extension": ".py",
   "mimetype": "text/x-python",
   "name": "python",
   "nbconvert_exporter": "python",
   "pygments_lexer": "ipython3",
   "version": "3.6.1"
  }
 },
 "nbformat": 4,
 "nbformat_minor": 2
}
