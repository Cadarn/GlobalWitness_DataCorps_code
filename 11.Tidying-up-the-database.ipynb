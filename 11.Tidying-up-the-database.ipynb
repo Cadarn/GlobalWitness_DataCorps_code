{
 "cells": [
  {
   "cell_type": "markdown",
   "metadata": {},
   "source": [
    "# Tidying up the Neo4j Database\n",
    "\n",
    "While we were building the Neo4j database we took some shortcuts to make it easier to loop over the data in batch and store things. A perfect example is that if there was a missing \"Country\" in a registration or an address we connected that node to a Country node with code = \"UNKNOWN\". This is a pointless set of nodes and relationships and can potentially slow things down so we are going to tidy some of these things up."
   ]
  },
  {
   "cell_type": "code",
   "execution_count": 2,
   "metadata": {
    "collapsed": true
   },
   "outputs": [],
   "source": [
    "# We need the connection driver imported\n",
    "from neo4j.v1 import GraphDatabase"
   ]
  },
  {
   "cell_type": "code",
   "execution_count": 3,
   "metadata": {
    "collapsed": true
   },
   "outputs": [],
   "source": [
    "user = \"myusername\"\n",
    "password = \"mypassword\"\n",
    "connection_path = \"bolt://10.0.0.1:7687\"\n",
    "driver = GraphDatabase.driver(connection_path, auth=(user, password))"
   ]
  },
  {
   "cell_type": "markdown",
   "metadata": {},
   "source": [
    "Let's find our example country node that is \"UNKNOWN\""
   ]
  },
  {
   "cell_type": "code",
   "execution_count": 5,
   "metadata": {},
   "outputs": [
    {
     "name": "stdout",
     "output_type": "stream",
     "text": [
      "[{'c': <Node id=100249 labels={'Country'} properties={'code': 'UNKNOWN'}>}]\n"
     ]
    }
   ],
   "source": [
    "with driver.session() as session:\n",
    "    result = session.run(\"MATCH (c:Country {code: 'UNKNOWN'}) RETURN c;\")\n",
    "    print(result.data())                     "
   ]
  },
  {
   "cell_type": "markdown",
   "metadata": {},
   "source": [
    "Now we can slightly change the query to DETACH and DELETE the node, this will effectively remove the node and ALL relationships conntected to it!"
   ]
  },
  {
   "cell_type": "code",
   "execution_count": 6,
   "metadata": {},
   "outputs": [
    {
     "name": "stdout",
     "output_type": "stream",
     "text": [
      "[]\n"
     ]
    }
   ],
   "source": [
    "with driver.session() as session:\n",
    "    result = session.run(\"MATCH (c:Country {code: 'UNKNOWN'}) DETACH DELETE c;\")\n",
    "    print(result.data())                     "
   ]
  },
  {
   "cell_type": "markdown",
   "metadata": {},
   "source": [
    "In some cases the Country code may also be blank which is just as bad as an actual node, so we will remove that version too."
   ]
  },
  {
   "cell_type": "code",
   "execution_count": null,
   "metadata": {
    "collapsed": true
   },
   "outputs": [],
   "source": [
    "with driver.session() as session:\n",
    "    result = session.run(\"MATCH (c:Country {code: ''}) DETACH DELETE c;\")\n",
    "    print(result.data())         "
   ]
  },
  {
   "cell_type": "code",
   "execution_count": 8,
   "metadata": {},
   "outputs": [
    {
     "name": "stdout",
     "output_type": "stream",
     "text": [
      "Done\n"
     ]
    }
   ],
   "source": [
    "print(\"Done\")"
   ]
  },
  {
   "cell_type": "code",
   "execution_count": null,
   "metadata": {
    "collapsed": true
   },
   "outputs": [],
   "source": []
  }
 ],
 "metadata": {
  "kernelspec": {
   "display_name": "Python 3",
   "language": "python",
   "name": "python3"
  },
  "language_info": {
   "codemirror_mode": {
    "name": "ipython",
    "version": 3
   },
   "file_extension": ".py",
   "mimetype": "text/x-python",
   "name": "python",
   "nbconvert_exporter": "python",
   "pygments_lexer": "ipython3",
   "version": "3.6.1"
  }
 },
 "nbformat": 4,
 "nbformat_minor": 2
}
